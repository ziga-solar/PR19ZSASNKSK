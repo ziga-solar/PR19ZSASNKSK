{
 "cells": [
  {
   "cell_type": "code",
   "execution_count": 155,
   "metadata": {},
   "outputs": [],
   "source": [
    "import numpy as np\n",
    "import pandas as pd\n",
    "import matplotlib\n",
    "import matplotlib.pyplot as plt\n",
    "import matplotlib.animation as animation\n",
    "import time\n",
    "import imageio\n",
    "import tempfile\n",
    "import os\n",
    "import shutil\n",
    "from matplotlib import cm\n",
    "from colorspacious import cspace_converter\n",
    "from collections import OrderedDict\n",
    "from tempfile import mkstemp"
   ]
  },
  {
   "cell_type": "code",
   "execution_count": 156,
   "metadata": {},
   "outputs": [],
   "source": [
    "raw_data = pd.read_csv(\"Data/athlete_events.csv\")\n",
    "raw_data = raw_data[pd.notnull(raw_data['Medal'])].sort_values(by=['Year'])\n",
    "df_data = raw_data[['ID','Name','Sex','Team','NOC','Year','Season','Sport','Medal']]\n",
    "df_winter = df_data[df_data['Season']=='Winter'].reset_index(drop=True)\n",
    "df_summer = df_data[df_data['Season']=='Summer'].reset_index(drop=True)"
   ]
  },
  {
   "cell_type": "code",
   "execution_count": 157,
   "metadata": {},
   "outputs": [],
   "source": [
    "summer_years = df_summer.Year.unique()\n",
    "winter_years = df_winter.Year.unique()\n",
    "\n",
    "summer_noc = df_summer.NOC.unique()\n",
    "winter_noc = df_winter.NOC.unique()\n",
    "summer_noc.sort()\n",
    "winter_noc.sort()\n",
    "summer_medals = pd.DataFrame(index=summer_noc)\n",
    "winter_medals = pd.DataFrame(index=winter_noc)"
   ]
  },
  {
   "cell_type": "code",
   "execution_count": 158,
   "metadata": {},
   "outputs": [],
   "source": [
    "for year in summer_years:\n",
    "    medals_per_noc_summer = []\n",
    "    for i, noc in enumerate(summer_noc):\n",
    "        medals_per_noc_summer.append(df_summer[(df_summer['NOC'] == str(noc)) & (df_summer['Year'] == year)].count().values[0])\n",
    "    summer_medals[year] = medals_per_noc_summer"
   ]
  },
  {
   "cell_type": "code",
   "execution_count": 159,
   "metadata": {},
   "outputs": [],
   "source": [
    "for year in winter_years:\n",
    "    medals_per_noc_winter = []\n",
    "    for i, noc in enumerate(winter_noc):\n",
    "        medals_per_noc_winter.append(df_winter[(df_winter['NOC'] == str(noc)) & (df_winter['Year'] == year)].count().values[0])\n",
    "    winter_medals[year] = medals_per_noc_winter"
   ]
  },
  {
   "cell_type": "code",
   "execution_count": 160,
   "metadata": {
    "scrolled": true
   },
   "outputs": [],
   "source": [
    "dirpath = tempfile.mkdtemp()\n",
    "graphs = []\n",
    "color_heat = ['#003EF9', '#0859FA', '#1172FA', '#1A89FA', '#239FFA', '#2CB3FA', '#35C7FA', '#3ED8FA', '#47E9FA', '#50F7FA']\n",
    "color_heat = color_heat[::-1]\n",
    "for year in winter_years:\n",
    "    fig = plt.figure(figsize=(20, 10))\n",
    "    plot = pd.DataFrame(winter_medals).sort_values(by=year, ascending=True)\n",
    "    plt.ylabel('NOC', fontsize=20)\n",
    "    plt.xlabel('Število medalj', fontsize=20)\n",
    "    plt.title('Medalje na državo za leto '+str(year), fontsize=30)\n",
    "    plt.yticks(fontsize=20)\n",
    "    plt.xticks(fontsize=20)\n",
    "    ax = plt.barh(plot.index.values[-10:], plot[year].tail(10), color=color_heat  ,align='center', alpha=0.5)\n",
    "    for i, v in enumerate(plot[year].tail(10)):\n",
    "        plt.text(v, i, str(v), va='center', color='black', fontweight='bold', fontsize=15)\n",
    "    plt.plasma()\n",
    "    fig.savefig(str(dirpath)+'/winter_'+str(year)+'.png')\n",
    "    graphs.append(fig)\n",
    "    plt.close()\n",
    "    \n",
    "png_dir = dirpath\n",
    "images = []\n",
    "for file_name in os.listdir(png_dir):\n",
    "    if file_name.endswith('.png'):\n",
    "        file_path = os.path.join(png_dir, file_name)\n",
    "        images.append(imageio.imread(file_path))\n",
    "imageio.mimsave('./Slike/winter.gif', images, duration = 1)\n",
    "shutil.rmtree(dirpath)"
   ]
  },
  {
   "cell_type": "code",
   "execution_count": 161,
   "metadata": {},
   "outputs": [],
   "source": [
    "dirpath = tempfile.mkdtemp()\n",
    "graphs = []\n",
    "color_heat = ['#FAC400', '#FAB808', '#FAAD11', '#FAA21A', '#FA9623', '#FA8B2C', '#FA8035', '#FA743E', '#FA6947', '#FB5E50']\n",
    "for year in summer_years:\n",
    "    fig = plt.figure(figsize=(20, 10))\n",
    "    plot = pd.DataFrame(summer_medals).sort_values(by=year, ascending=True)\n",
    "    plt.ylabel('NOC', fontsize=20)\n",
    "    plt.xlabel('Število medalj', fontsize=20)\n",
    "    plt.title('Medalje na državo za leto '+str(year), fontsize=30)\n",
    "    plt.yticks(fontsize=20)\n",
    "    plt.xticks(fontsize=20)\n",
    "    ax = plt.barh(plot.index.values[-10:], plot[year].tail(10), color=color_heat  ,align='center', alpha=0.5)\n",
    "    for i, v in enumerate(plot[year].tail(10)):\n",
    "        plt.text(v, i, str(v), va='center', color='black', fontweight='bold', fontsize=15)\n",
    "    plt.plasma()\n",
    "    fig.savefig(str(dirpath)+'/summer_'+str(year)+'.png')\n",
    "    graphs.append(fig)\n",
    "    plt.close()\n",
    "    \n",
    "png_dir = dirpath\n",
    "images = []\n",
    "for file_name in os.listdir(png_dir):\n",
    "    if file_name.endswith('.png'):\n",
    "        file_path = os.path.join(png_dir, file_name)\n",
    "        images.append(imageio.imread(file_path))\n",
    "imageio.mimsave('./Slike/summer.gif', images, duration = 1)\n",
    "shutil.rmtree(dirpath)"
   ]
  },
  {
   "cell_type": "code",
   "execution_count": null,
   "metadata": {},
   "outputs": [],
   "source": []
  }
 ],
 "metadata": {
  "kernelspec": {
   "display_name": "Python 3",
   "language": "python",
   "name": "python3"
  },
  "language_info": {
   "codemirror_mode": {
    "name": "ipython",
    "version": 3
   },
   "file_extension": ".py",
   "mimetype": "text/x-python",
   "name": "python",
   "nbconvert_exporter": "python",
   "pygments_lexer": "ipython3",
   "version": "3.7.3"
  }
 },
 "nbformat": 4,
 "nbformat_minor": 2
}
