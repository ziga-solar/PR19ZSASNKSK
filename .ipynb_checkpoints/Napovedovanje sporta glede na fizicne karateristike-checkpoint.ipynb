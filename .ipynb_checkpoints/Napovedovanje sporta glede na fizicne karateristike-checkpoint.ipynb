{
 "cells": [
  {
   "cell_type": "code",
   "execution_count": 254,
   "metadata": {},
   "outputs": [],
   "source": [
    "import numpy as np\n",
    "import pandas as pd\n",
    "import matplotlib\n",
    "import matplotlib.pyplot as plt\n",
    "import math\n",
    "import sklearn as sk  \n",
    "from sklearn.linear_model import LogisticRegression  \n",
    "from sklearn import svm  \n",
    "from sklearn.ensemble import RandomForestClassifier  \n",
    "from sklearn.neural_network import MLPClassifier\n",
    "from sklearn.preprocessing import LabelEncoder\n",
    "\n",
    "raw_data = pd.read_csv(\"Data/athlete_events.csv\")\n",
    "raw_regions = pd.read_csv(\"Data/noc_regions.csv\")"
   ]
  },
  {
   "cell_type": "code",
   "execution_count": 255,
   "metadata": {},
   "outputs": [],
   "source": [
    "all_raw_data = pd.merge(raw_data, raw_regions, on=\"NOC\")"
   ]
  },
  {
   "cell_type": "code",
   "execution_count": 256,
   "metadata": {},
   "outputs": [],
   "source": [
    "#pridobivanje potrebnih podatkov\n",
    "datatmp = all_raw_data[['Sport','Age','Height','Weight','Medal','Sex']].copy()\n",
    "datatmp.dropna()\n",
    "#brisanje vseh nepopolnih vrstic\n",
    "datatmp = datatmp[pd.notnull(datatmp['Medal'])]\n",
    "datatmp = datatmp[pd.notnull(datatmp['Sport'])]\n",
    "datatmp = datatmp[pd.notnull(datatmp['Weight'])]\n",
    "datatmp = datatmp[pd.notnull(datatmp['Height'])]\n",
    "datatmp = datatmp[pd.notnull(datatmp['Age'])]\n",
    "datatmp = datatmp[pd.notnull(datatmp['Sex'])]\n",
    "datatmp2 = np.array(datatmp)\n",
    "del datatmp['Medal']\n"
   ]
  },
  {
   "cell_type": "code",
   "execution_count": 257,
   "metadata": {},
   "outputs": [],
   "source": [
    "#spreminjanje stringov v int\n",
    "le = LabelEncoder()  \n",
    "datatmp['Sex'] = le.fit_transform(datatmp['Sex'])\n",
    "lebel = LabelEncoder()  \n",
    "datatmp['Sport'] = lebel.fit_transform(datatmp['Sport'])\n",
    "\n",
    "#brisanje starih sportov ki so bili le na nekaterih igrah\n",
    "datatmp = datatmp.loc[datatmp['Sport'] != 2]\n",
    "datatmp = datatmp.loc[datatmp['Sport'] != 20]\n",
    "datatmp = datatmp.loc[datatmp['Sport'] != 50]\n",
    "datatmp = datatmp.loc[datatmp['Sport'] != 21]\n",
    "datatmp = datatmp.loc[datatmp['Sport'] != 38]\n",
    "datatmp = datatmp.loc[datatmp['Sport'] != 48]\n",
    "datatmp = datatmp.loc[datatmp['Sport'] != 49]\n",
    "datatmp = datatmp.loc[datatmp['Sport'] != 33]\n",
    "datatmp = datatmp.loc[datatmp['Sport'] != 7]\n",
    "datatmp = datatmp.loc[datatmp['Sport'] != 34]\n",
    "datatmp = datatmp.loc[datatmp['Sport'] != 27]\n",
    "\n",
    "#datatmp = datatmp.loc[datatmp['Sport'] != 20]\n",
    "#datatmp = datatmp.loc[datatmp['Sport'] != 27]\n",
    "#datatmp = datatmp.loc[datatmp['Sport'] != 40]\n"
   ]
  },
  {
   "cell_type": "code",
   "execution_count": 258,
   "metadata": {},
   "outputs": [],
   "source": [
    "#nakljucno razvrscanje podatkov v train in test mnozici\n",
    "def train_validate_test_split(df, train_percent=.7, validate_percent=.3, seed=None):\n",
    "    np.random.seed(seed)\n",
    "    perm = np.random.permutation(df.index)\n",
    "    m = len(df.index)\n",
    "    train_end = int(train_percent * m)\n",
    "    validate_end = int(validate_percent * m) + train_end\n",
    "    train = df.loc[perm[:train_end]]\n",
    "    validate = df.loc[perm[train_end:validate_end]]\n",
    "    return train, validate\n",
    "train_validate_test_split\n",
    "train,test = train_validate_test_split(datatmp)"
   ]
  },
  {
   "cell_type": "code",
   "execution_count": 259,
   "metadata": {},
   "outputs": [],
   "source": [
    "y_tr = train.iloc[:,0]  \n",
    "X_tr = train.iloc[:,1:]\n",
    "\n",
    "y_test = test.iloc[:,0]  \n",
    "X_test = test.iloc[:,1:]"
   ]
  },
  {
   "cell_type": "code",
   "execution_count": 261,
   "metadata": {},
   "outputs": [
    {
     "name": "stdout",
     "output_type": "stream",
     "text": [
      "0.2979\n"
     ]
    }
   ],
   "source": [
    "RF = RandomForestClassifier(n_estimators=2000, max_depth=14, random_state=0).fit(X_tr, y_tr)  \n",
    "RF.predict(X_test)  \n",
    "print(round(RF.score(X_test, y_test), 4))"
   ]
  },
  {
   "cell_type": "code",
   "execution_count": 276,
   "metadata": {},
   "outputs": [
    {
     "name": "stdout",
     "output_type": "stream",
     "text": [
      "Weightlifting\n"
     ]
    }
   ],
   "source": [
    "X_test\n",
    "moji = [[21,175,85,1]]\n",
    "predictions_test = RF.predict(moji)\n",
    "predictions_test = lebel.inverse_transform(predictions_test)\n",
    "print(predictions_test[0])"
   ]
  }
 ],
 "metadata": {
  "kernelspec": {
   "display_name": "Python 3",
   "language": "python",
   "name": "python3"
  },
  "language_info": {
   "codemirror_mode": {
    "name": "ipython",
    "version": 3
   },
   "file_extension": ".py",
   "mimetype": "text/x-python",
   "name": "python",
   "nbconvert_exporter": "python",
   "pygments_lexer": "ipython3",
   "version": "3.6.2"
  }
 },
 "nbformat": 4,
 "nbformat_minor": 2
}
