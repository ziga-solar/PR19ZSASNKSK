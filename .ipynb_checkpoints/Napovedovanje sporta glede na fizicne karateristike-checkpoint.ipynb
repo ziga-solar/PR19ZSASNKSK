{
 "cells": [
  {
   "cell_type": "code",
   "execution_count": 331,
   "metadata": {},
   "outputs": [],
   "source": [
    "import numpy as np\n",
    "import pandas as pd\n",
    "import matplotlib\n",
    "import matplotlib.pyplot as plt\n",
    "import math\n",
    "import sklearn as sk  \n",
    "from sklearn.linear_model import LogisticRegression  \n",
    "from sklearn import svm  \n",
    "from sklearn.ensemble import RandomForestClassifier  \n",
    "from sklearn.neural_network import MLPClassifier\n",
    "from sklearn.preprocessing import LabelEncoder\n",
    "\n",
    "raw_data = pd.read_csv(\"Data/athlete_events.csv\")\n",
    "raw_regions = pd.read_csv(\"Data/noc_regions.csv\")"
   ]
  },
  {
   "cell_type": "code",
   "execution_count": 332,
   "metadata": {},
   "outputs": [],
   "source": [
    "all_raw_data = pd.merge(raw_data, raw_regions, on=\"NOC\")"
   ]
  },
  {
   "cell_type": "code",
   "execution_count": 333,
   "metadata": {},
   "outputs": [],
   "source": [
    "#pridobivanje potrebnih podatkov\n",
    "datatmp = all_raw_data[['Sport','Age','Height','Weight','Medal','Sex']].copy()\n",
    "datatmp.dropna()\n",
    "#brisanje vseh nepopolnih vrstic\n",
    "datatmp = datatmp[pd.notnull(datatmp['Medal'])]\n",
    "datatmp = datatmp[pd.notnull(datatmp['Sport'])]\n",
    "datatmp = datatmp[pd.notnull(datatmp['Weight'])]\n",
    "datatmp = datatmp[pd.notnull(datatmp['Height'])]\n",
    "datatmp = datatmp[pd.notnull(datatmp['Age'])]\n",
    "datatmp = datatmp[pd.notnull(datatmp['Sex'])]\n",
    "datatmp2 = np.array(datatmp)\n",
    "del datatmp['Medal']\n"
   ]
  },
  {
   "cell_type": "code",
   "execution_count": 334,
   "metadata": {},
   "outputs": [],
   "source": [
    "#spreminjanje stringov v int\n",
    "le = LabelEncoder()  \n",
    "datatmp['Sex'] = le.fit_transform(datatmp['Sex'])\n",
    "lebel = LabelEncoder()  \n",
    "datatmp['Sport'] = lebel.fit_transform(datatmp['Sport'])\n",
    "\n",
    "#brisanje starih sportov ki so bili le na nekaterih igrah\n",
    "datatmp = datatmp.loc[datatmp['Sport'] != 2]\n",
    "datatmp = datatmp.loc[datatmp['Sport'] != 20]\n",
    "datatmp = datatmp.loc[datatmp['Sport'] != 50]\n",
    "datatmp = datatmp.loc[datatmp['Sport'] != 21]\n",
    "datatmp = datatmp.loc[datatmp['Sport'] != 38]\n",
    "datatmp = datatmp.loc[datatmp['Sport'] != 48]\n",
    "datatmp = datatmp.loc[datatmp['Sport'] != 49]\n",
    "datatmp = datatmp.loc[datatmp['Sport'] != 33]\n",
    "datatmp = datatmp.loc[datatmp['Sport'] != 7]\n",
    "datatmp = datatmp.loc[datatmp['Sport'] != 34]\n",
    "datatmp = datatmp.loc[datatmp['Sport'] != 27]\n",
    "\n",
    "#datatmp = datatmp.loc[datatmp['Sport'] != 20]\n",
    "#datatmp = datatmp.loc[datatmp['Sport'] != 27]\n",
    "#datatmp = datatmp.loc[datatmp['Sport'] != 40]\n"
   ]
  },
  {
   "cell_type": "code",
   "execution_count": 335,
   "metadata": {},
   "outputs": [],
   "source": [
    "#nakljucno razvrscanje podatkov v train in test mnozici\n",
    "def train_validate_test_split(df, train_percent=.7, validate_percent=.3, seed=None):\n",
    "    np.random.seed(seed)\n",
    "    perm = np.random.permutation(df.index)\n",
    "    m = len(df.index)\n",
    "    train_end = int(train_percent * m)\n",
    "    validate_end = int(validate_percent * m) + train_end\n",
    "    train = df.loc[perm[:train_end]]\n",
    "    validate = df.loc[perm[train_end:validate_end]]\n",
    "    return train, validate\n",
    "train_validate_test_split\n",
    "train,test = train_validate_test_split(datatmp)"
   ]
  },
  {
   "cell_type": "code",
   "execution_count": 336,
   "metadata": {},
   "outputs": [],
   "source": [
    "y_tr = train.iloc[:,0]  \n",
    "X_tr = train.iloc[:,1:]\n",
    "\n",
    "y_test = test.iloc[:,0]  \n",
    "X_test = test.iloc[:,1:]"
   ]
  },
  {
   "cell_type": "code",
   "execution_count": 337,
   "metadata": {},
   "outputs": [
    {
     "name": "stdout",
     "output_type": "stream",
     "text": [
      "0.3088\n"
     ]
    }
   ],
   "source": [
    "RF = RandomForestClassifier(n_estimators=2000, max_depth=14, random_state=0).fit(X_tr, y_tr)  \n",
    "RF.predict(X_test)  \n",
    "print(round(RF.score(X_test, y_test), 4))"
   ]
  },
  {
   "cell_type": "code",
   "execution_count": 358,
   "metadata": {},
   "outputs": [
    {
     "name": "stdout",
     "output_type": "stream",
     "text": [
      "36\n",
      "1   0.0003146241382251873\n",
      "2   0.015733144582573494\n",
      "3   0.16247203183025094\n",
      "4   0.011334715625479106\n",
      "5   0.003503532363944363\n",
      "6   0.08792677646894419\n",
      "7   0.00657601838807324\n",
      "8   0.00019632151732458183\n",
      "9   0.06751011024802715\n",
      "10   0.01406609797415078\n",
      "11   0.021588515941873578\n",
      "12   1.043488615455397e-05\n",
      "13   0.06118520552988618\n",
      "14   0.004958120073631607\n",
      "15   0.0019216159178449036\n",
      "16   0.02848724347564967\n",
      "17   0.004978877207727647\n",
      "18   0.07153722124018437\n",
      "19   0.08205316563146783\n",
      "20   0.0020409591171116565\n",
      "21   0.04606207177511767\n",
      "22   0.005242166508634263\n",
      "23   0.00024095025443421778\n",
      "24   0.00017810741758738703\n",
      "25   0.0014194303672650102\n",
      "26   0.00036923768911507074\n",
      "27   0.0\n",
      "28   0.016949308554372156\n",
      "29   0.006136203833493206\n",
      "30   0.0010311316881543573\n",
      "31   0.00267388672073102\n",
      "32   0.00041787597804762814\n",
      "33   0.003115319622054915\n",
      "34   0.0\n",
      "35   0.005275479415216148\n",
      "36   0.25099655333308474\n",
      "37   0.0\n",
      "38   0.0016834100228567469\n",
      "39   0.00022339658690559853\n",
      "40   0.002187639560344843\n",
      "41   0.0035078429073139294\n",
      "42   0.002735207146705517\n",
      "43   0.0001493780504476926\n",
      "44   0.0010106704095932551\n"
     ]
    }
   ],
   "source": [
    "X_test\n",
    "moji = [[20,185,75,1]]\n",
    "predictions_test = RF.predict_proba(moji)\n",
    "predictions_test = predictions_test[0]\n",
    "\n",
    "i = 1;\n",
    "i1 = 0;\n",
    "i2 = 0;\n",
    "i3 = 0;\n",
    "tmp1 = 0;\n",
    "tmp2 = 0;\n",
    "tmp3 = 0;\n",
    "for a in predictions_test:\n",
    "    if(a > tmp1):\n",
    "        i1 = i\n",
    "        tmp3 = tmp2\n",
    "        tmp2 = tmp1\n",
    "        tmp1 = a\n",
    "    elif(a > tmp2):\n",
    "        i2 = i\n",
    "        tmp3 = tmp2\n",
    "        tmp2 = a\n",
    "    elif(a > tmp3):\n",
    "        i3 = i\n",
    "        tmp3 = a\n",
    "    i+=1\n",
    "j = 0\n",
    "print(i1)\n",
    "\n",
    "for a in predictions_test:\n",
    "    j += 1\n",
    "    print(j , \" \" , a)"
   ]
  },
  {
   "cell_type": "code",
   "execution_count": 359,
   "metadata": {},
   "outputs": [
    {
     "name": "stdout",
     "output_type": "stream",
     "text": [
      "1.   Shooting\n",
      "2.   Basketball\n",
      "3.   Football\n"
     ]
    }
   ],
   "source": [
    "first = lebel.inverse_transform([i1])\n",
    "print(\"1.\",\" \",first[0])\n",
    "second = lebel.inverse_transform([i2])\n",
    "print(\"2.\",\" \",second[0])\n",
    "third = lebel.inverse_transform([i3])\n",
    "print(\"3.\",\" \",third[0])"
   ]
  },
  {
   "cell_type": "code",
   "execution_count": null,
   "metadata": {},
   "outputs": [],
   "source": []
  },
  {
   "cell_type": "code",
   "execution_count": null,
   "metadata": {},
   "outputs": [],
   "source": []
  }
 ],
 "metadata": {
  "kernelspec": {
   "display_name": "Python 3",
   "language": "python",
   "name": "python3"
  },
  "language_info": {
   "codemirror_mode": {
    "name": "ipython",
    "version": 3
   },
   "file_extension": ".py",
   "mimetype": "text/x-python",
   "name": "python",
   "nbconvert_exporter": "python",
   "pygments_lexer": "ipython3",
   "version": "3.6.2"
  }
 },
 "nbformat": 4,
 "nbformat_minor": 2
}
