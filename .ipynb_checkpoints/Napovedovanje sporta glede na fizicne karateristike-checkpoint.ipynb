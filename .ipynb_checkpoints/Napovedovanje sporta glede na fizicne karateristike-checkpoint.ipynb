{
 "cells": [
  {
   "cell_type": "markdown",
   "metadata": {},
   "source": [
    "# Napovedovanje primernega športa glede na fizične karakteristike"
   ]
  },
  {
   "cell_type": "raw",
   "metadata": {},
   "source": [
    "Ustvarili smo model, ki napove šport za katerega imamo najbolj primerno fizično predpostavko\n",
    "Za napoved moramo vnesti svojo starost, višino, težo ter spol. Model nam nato vrne tri najbolj primerne športe.\n"
   ]
  },
  {
   "cell_type": "markdown",
   "metadata": {},
   "source": [
    "### Ustvarjanje modela"
   ]
  },
  {
   "cell_type": "raw",
   "metadata": {},
   "source": [
    "izmed vseh 66 športov, ki jih imamo med podatki, smo odstranili 9 športov, saj so bili le na nekaterih igrah. Športi\n",
    "z premalo podatkov so vlečenjne vrvi, golf, rugby, umetniško tekmovanje, lacrose itd. Tako model napoveduje med 57 športi. \n"
   ]
  },
  {
   "cell_type": "markdown",
   "metadata": {},
   "source": [
    "#### Podatki"
   ]
  },
  {
   "cell_type": "raw",
   "metadata": {},
   "source": [
    "Iz naše baze podatkov, smo izluščili vse športnike, ki so dobili medaljo ter nimajo mankajočih podatkov. Vsak športnik je predstavljen z starostjo, višino, težo, spolam ter športam v katerem je osvojil medaljo. Ker je za nekatere športe kot so atletika, košarka veliko več podatkov smo naključno nekatere odstranili ter tako prišli do veliko bolj uravnovešenih podatkov. Nazadnje je sledila nakjlučna razvrstitev podatkov v učno ter testno množico v razmerju 70:30"
   ]
  },
  {
   "cell_type": "markdown",
   "metadata": {},
   "source": [
    "#### Učenje modela in testiranje modela"
   ]
  },
  {
   "cell_type": "raw",
   "metadata": {},
   "source": [
    "Ker podatki niso tako zelo dobro uteženi je za klasifikator uporabljen RandomForest, saj od vseh modelov deluje bolje na neuravnovešenih podatkih.\n",
    "\n",
    "Model prvi šport napove z 30% natančnostjo, če pa vzamemo prve tri najbolj vrjetne športe model napoveduje z več kot 50% natančnostjo."
   ]
  },
  {
   "cell_type": "markdown",
   "metadata": {},
   "source": [
    "#### Primeri"
   ]
  },
  {
   "cell_type": "raw",
   "metadata": {},
   "source": [
    "Moški: 181cm 72kg 21 let\n",
    "1.   Athletics\n",
    "2.   Shooting\n",
    "3.   Figure Skating"
   ]
  },
  {
   "cell_type": "raw",
   "metadata": {},
   "source": [
    "Moški: 181cm 72kg 33 let\n",
    "1.   Canoeing\n",
    "2.   Diving\n",
    "3.   Equestrianism(konjeništvo)"
   ]
  },
  {
   "cell_type": "raw",
   "metadata": {},
   "source": [
    "Ženska: 181cm 72kg 21 let\n",
    "1.   Luge\n",
    "2.   Speed Skating\n",
    "3.   Shooting"
   ]
  },
  {
   "cell_type": "raw",
   "metadata": {},
   "source": [
    "Ženska: 195cm 80kg 24 let\n",
    "1.   Basketball\n",
    "2.   Speed Skating\n",
    "3.   Luge"
   ]
  },
  {
   "cell_type": "raw",
   "metadata": {},
   "source": [
    "Ženska: 160cm 60kg 23 let\n",
    "1.   Synchronized Swimming\n",
    "2.   Gymnastics\n",
    "3.   Golf"
   ]
  },
  {
   "cell_type": "raw",
   "metadata": {},
   "source": [
    "Moški: 160cm 60kg 23 let\n",
    "1.   Table Tennis\n",
    "2.   Handball\n",
    "3.   Football"
   ]
  },
  {
   "cell_type": "code",
   "execution_count": 16,
   "metadata": {},
   "outputs": [],
   "source": [
    "import numpy as np\n",
    "import pandas as pd\n",
    "import matplotlib\n",
    "import matplotlib.pyplot as plt\n",
    "import math\n",
    "import sklearn as sk  \n",
    "from sklearn.linear_model import LogisticRegression  \n",
    "from sklearn import svm  \n",
    "from sklearn.ensemble import RandomForestClassifier  \n",
    "from sklearn.neural_network import MLPClassifier\n",
    "from sklearn.preprocessing import LabelEncoder\n",
    "\n",
    "raw_data = pd.read_csv(\"Data/athlete_events.csv\")\n",
    "raw_regions = pd.read_csv(\"Data/noc_regions.csv\")"
   ]
  },
  {
   "cell_type": "code",
   "execution_count": 17,
   "metadata": {},
   "outputs": [],
   "source": [
    "all_raw_data = pd.merge(raw_data, raw_regions, on=\"NOC\")"
   ]
  },
  {
   "cell_type": "code",
   "execution_count": 18,
   "metadata": {},
   "outputs": [],
   "source": [
    "#pridobivanje potrebnih podatkov\n",
    "datatmp = all_raw_data[['Sport','Age','Height','Weight','Medal','Sex']].copy()\n",
    "datatmp.dropna()\n",
    "#brisanje vseh nepopolnih vrstic\n",
    "datatmp = datatmp[pd.notnull(datatmp['Medal'])]\n",
    "datatmp = datatmp[pd.notnull(datatmp['Sport'])]\n",
    "datatmp = datatmp[pd.notnull(datatmp['Weight'])]\n",
    "datatmp = datatmp[pd.notnull(datatmp['Height'])]\n",
    "datatmp = datatmp[pd.notnull(datatmp['Age'])]\n",
    "datatmp = datatmp[pd.notnull(datatmp['Sex'])]\n",
    "datatmp2 = np.array(datatmp)\n",
    "del datatmp['Medal']\n"
   ]
  },
  {
   "cell_type": "code",
   "execution_count": 19,
   "metadata": {},
   "outputs": [],
   "source": [
    "#spreminjanje stringov v int\n",
    "le = LabelEncoder()  \n",
    "datatmp['Sex'] = le.fit_transform(datatmp['Sex'])\n",
    "lebel = LabelEncoder()  \n",
    "datatmp['Sport'] = lebel.fit_transform(datatmp['Sport'])\n",
    "\n",
    "#brisanje starih sportov ki so bili le na nekaterih igrah\n",
    "datatmp = datatmp.loc[datatmp['Sport'] != 2]\n",
    "datatmp = datatmp.loc[datatmp['Sport'] != 20]\n",
    "datatmp = datatmp.loc[datatmp['Sport'] != 50]\n",
    "datatmp = datatmp.loc[datatmp['Sport'] != 21]\n",
    "datatmp = datatmp.loc[datatmp['Sport'] != 38]\n",
    "datatmp = datatmp.loc[datatmp['Sport'] != 48]\n",
    "datatmp = datatmp.loc[datatmp['Sport'] != 33]\n",
    "datatmp = datatmp.loc[datatmp['Sport'] != 34]\n",
    "datatmp = datatmp.loc[datatmp['Sport'] != 27]\n",
    "\n"
   ]
  },
  {
   "cell_type": "code",
   "execution_count": 20,
   "metadata": {},
   "outputs": [],
   "source": [
    "#nakljucno razvrscanje podatkov v train in test mnozici\n",
    "def train_validate_test_split(df, train_percent=.7, validate_percent=.3, seed=None):\n",
    "    np.random.seed(seed)\n",
    "    perm = np.random.permutation(df.index)\n",
    "    m = len(df.index)\n",
    "    train_end = int(train_percent * m)\n",
    "    validate_end = int(validate_percent * m) + train_end\n",
    "    train = df.loc[perm[:train_end]]\n",
    "    validate = df.loc[perm[train_end:validate_end]]\n",
    "    return train, validate\n",
    "train_validate_test_split\n",
    "train,test = train_validate_test_split(datatmp)"
   ]
  },
  {
   "cell_type": "code",
   "execution_count": 21,
   "metadata": {},
   "outputs": [],
   "source": [
    "y_tr = train.iloc[:,0]  \n",
    "X_tr = train.iloc[:,1:]\n",
    "\n",
    "y_test = test.iloc[:,0]  \n",
    "X_test = test.iloc[:,1:]"
   ]
  },
  {
   "cell_type": "code",
   "execution_count": 22,
   "metadata": {},
   "outputs": [
    {
     "name": "stdout",
     "output_type": "stream",
     "text": [
      "0.3068\n"
     ]
    }
   ],
   "source": [
    "RF = RandomForestClassifier(n_estimators=2000, max_depth=14, random_state=0).fit(X_tr, y_tr)  \n",
    "RF.predict(X_test)  \n",
    "print(round(RF.score(X_test, y_test), 4))"
   ]
  },
  {
   "cell_type": "code",
   "execution_count": 93,
   "metadata": {},
   "outputs": [],
   "source": [
    "X_test\n",
    "moji = [[23,160,60,1]]\n",
    "predictions_test = RF.predict_proba(moji)\n",
    "predictions_test = predictions_test[0]\n",
    "\n",
    "i = 1;\n",
    "i1 = 0;\n",
    "i2 = 0;\n",
    "i3 = 0;\n",
    "tmp1 = 0;\n",
    "tmp2 = 0;\n",
    "tmp3 = 0;\n",
    "for a in predictions_test:\n",
    "    if(a > tmp1):\n",
    "        i1 = i\n",
    "        tmp1 = a\n",
    "    i+=1\n",
    "predictions_test[i1-1]=0\n",
    "i = 1\n",
    "for a in predictions_test:\n",
    "    if(a > tmp2):\n",
    "        i2 = i\n",
    "        tmp2 = a\n",
    "    i+=1\n",
    "predictions_test[i2-1]=0   \n",
    "i = 1\n",
    "for a in predictions_test:\n",
    "    if(a > tmp3):\n",
    "        i3 = i\n",
    "        tmp3 = a\n",
    "    i+=1"
   ]
  },
  {
   "cell_type": "code",
   "execution_count": 94,
   "metadata": {},
   "outputs": [
    {
     "name": "stdout",
     "output_type": "stream",
     "text": [
      "1.   Table Tennis\n",
      "2.   Handball\n",
      "3.   Football\n"
     ]
    }
   ],
   "source": [
    "first = lebel.inverse_transform([i1])\n",
    "print(\"1.\",\" \",first[0])\n",
    "second = lebel.inverse_transform([i2])\n",
    "print(\"2.\",\" \",second[0])\n",
    "third = lebel.inverse_transform([i3])\n",
    "print(\"3.\",\" \",third[0])"
   ]
  },
  {
   "cell_type": "code",
   "execution_count": null,
   "metadata": {},
   "outputs": [],
   "source": []
  },
  {
   "cell_type": "code",
   "execution_count": null,
   "metadata": {},
   "outputs": [],
   "source": []
  }
 ],
 "metadata": {
  "kernelspec": {
   "display_name": "Python 3",
   "language": "python",
   "name": "python3"
  },
  "language_info": {
   "codemirror_mode": {
    "name": "ipython",
    "version": 3
   },
   "file_extension": ".py",
   "mimetype": "text/x-python",
   "name": "python",
   "nbconvert_exporter": "python",
   "pygments_lexer": "ipython3",
   "version": "3.6.2"
  }
 },
 "nbformat": 4,
 "nbformat_minor": 2
}
