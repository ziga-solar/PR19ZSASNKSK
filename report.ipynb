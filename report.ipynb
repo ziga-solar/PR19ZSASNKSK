{
 "cells": [
  {
   "cell_type": "markdown",
   "metadata": {},
   "source": [
    "<center> <h1>Podatkovno rudarjenje (PR)</h1>\n",
    "    <br>\n",
    "    <br>\n",
    "<h3>Univerza v Ljubljani</h3>\n",
    "<h3>Fakulteta za računalništvo in informatiko</h3>"
   ]
  },
  {
   "cell_type": "markdown",
   "metadata": {},
   "source": [
    "##### Skupina:\n",
    " - Žiga Šolar\t(zs3653@student.uni-lj.si)\n",
    " - Andraž Simčič (as7495@student.uni-lj.si)\n",
    " - Simon Klemenčič (sk0014@student.uni-lj.si)\n",
    " - Nejc Kozjek (nk4370@student.uni-lj.si)\n",
    " "
   ]
  },
  {
   "cell_type": "markdown",
   "metadata": {},
   "source": [
    "<h3> Kratek opis naloge: </h3>\n",
    "\n",
    "Namen naše naloge je analiza razvoja športnikov in športov na osnovi podatkov z Olimpijskih iger od leta 1896 v Atenah do leta 2016 v Riu (120 let).\n",
    "Olimpijske igre so športni dogodek, ki se odvija vsako četro leto. Poznamo zimske in letne Olimpijske igre. Popularne so zaradi raznolike ponudbe zimskih in letnih športov, kot so smučanje, plavanje, košarka, nogomet, itd."
   ]
  },
  {
   "cell_type": "markdown",
   "metadata": {},
   "source": [
    "<h3> Podatki</h3>\n",
    "\n",
    "Podatkovno zbirko smo pridobili iz spletnega portala Kaggle (https://www.kaggle.com/heesoo37/120-years-of-olympic-history-athletes-and-results/version/2), kjer so podatki na razpolago v formatu \"csv\". V podatkih imamo 270 000 vrstic podatkov.\n",
    "\n",
    "Podatki so v dveh tabelah. Prva tabela vsebuje 15 atributov, ki nam povedo športnikovo polno ime, spol, starost, višino, težo, ekipo, državo zastopanja, šport, dogodek, letnico, naziv, sezona, mesto poteka olimpijskih iger in status ali je prejel medaljo. Druga tabela vsebuje kratico in naziv države ter opombo.\n",
    "\n",
    "Za boljši pregled podatkov smo se odločii, da bomo združili tabeli v eno preko atributa kratice države (NOC)."
   ]
  },
  {
   "cell_type": "markdown",
   "metadata": {},
   "source": [
    "<h3> Ugotovitve </h3>\n",
    "\n",
    "Celotna koda, analiza in ugotovitve projekta je dostopna kot python notebook (PR19ZSASNKSK.ipynb) na repozitoriju na tej povezavi: https://github.com/ziga-solar/PR19ZSASNKSK/blob/master/PR19ZSASNKSK.ipynb"
   ]
  },
  {
   "cell_type": "markdown",
   "metadata": {},
   "source": [
    "<div>\n",
    "<h5> Analiza povprečnih starosti športnikov glede na šport </h5>\n",
    "\n",
    "Analiza je pokazala zanimiv rezultat, saj so pri določenih športih na Olimpijskih igrah tekmovali tudi starejši športniki, vendar predvsem v športih, ki v sodobnem času niso več del iger. Izstopa kriket (Roque), kjer je bila povprečna starost tekmovalcev kar 53,3 let. Najmanjša povprečna starost tekmovalcev pa je v ritmični gimnastiki in sicer 18,74 let. Podrobnosti povprečnih starosti drugih športov so prikazane v grafu.\n",
    "</div>"
   ]
  },
  {
   "cell_type": "markdown",
   "metadata": {},
   "source": [
    "<div>\n",
    " <h5> Analiza povprečnih višin športnikov glede na šport</h5>\n",
    "    \n",
    "Ta analiza je prikazala pričakovan rezultat, da se najvišji športniki ukvarjajo s košarko. Njihova povprečna višina je kar 190,9 cm. Med višje športnike sodijo tudi tisti, ki se ukvarjajo z odbojko, vaterpolom, veslanjem in rokometom. Najnižji športniki so tisti, ki se ukvarjajo z gimnastiko, trampolinom ali potapljanjem. Druge podrobnosti so razvidne iz grafa, pri čemer za nekatere športe ni bilo podatkov.\n",
    "</div>"
   ]
  },
  {
   "cell_type": "markdown",
   "metadata": {},
   "source": [
    "<div>\n",
    " <h5> Analiza povprečne teže športnikov glede na šport</h5>\n",
    "\n",
    "Tudi pri tej analizi so bili najtežji športniki tisti, ki so se ukvarjali s kriketom (Roque). Ta šport ni več prisoten na Olimpijskih igrah. Najlažji športniki na grafu so presenetljivo nogometaši, vendar smo z dodatno analizo ugotovili, da je podatek pri enem od nogometašev zagotovo napačen (pri 183 cm višine ima vpisanih le 28 kg), kar nekaj pa je vpisanih tudi ženskih nogometašic, ki tehtajo manj kot 50 kg. Druge podrobnosti so razvidne iz grafa, pri čemer za nekatere športe ni bilo podatkov.\n",
    "</div>"
   ]
  },
  {
   "cell_type": "markdown",
   "metadata": {},
   "source": [
    "<p align=\"center\">\n",
    "    <img align=\"left\" src=\"Slike/avg_starost_tekmovalcev.png\" alt=\"Prikaz povprečnih starosti športnikov\" width=\"320\" height=\"500\" />\n",
    "    <img align=\"left\" src=\"Slike/avg_visina_tekmovalcev.png\" alt=\"Prikaz povprečnih višin športnikov\" width=\"320\" height=\"500\" />\n",
    "    <img align=\"left\" src=\"Slike/avg_teza_tekmovalcev.png\" alt=\"Prikaz povprečnih tež športnikov\" width=\"320\" height=\"500\" />\n",
    "</p>"
   ]
  },
  {
   "cell_type": "markdown",
   "metadata": {},
   "source": [
    "## Analiza podatkov glede na medalje"
   ]
  },
  {
   "cell_type": "markdown",
   "metadata": {},
   "source": [
    "#### Urejanje podatkov\n",
    "Podatke o medaljah sem zamenjal s oceno medalje (Zlata=5, Srebrna=3, Bronsata=1)"
   ]
  },
  {
   "cell_type": "markdown",
   "metadata": {},
   "source": [
    "#### Analiza kateri državi gre najbolje šport\n",
    "Pri tej analizi sem seštelvse točke za nek šport glede na državo in tista država ki je imela največ točk je država kater gre ta šport najboljše.\n",
    "\n",
    "##### Zanimivi rezultati:<br/>\n",
    "    Cricket --->     UK\n",
    "    Shooting --->\tUSA\n",
    "    Ice Hockey --->\tCanada\n",
    "    Wrestling --->\tRussia\n",
    "    Alpine Skiing --->\tAustria"
   ]
  },
  {
   "cell_type": "markdown",
   "metadata": {},
   "source": [
    "#### Analiza kateri šport gre najbolje državi\n",
    "Pri tej analizi sem seštel vse točke za državo po športih in izbral tisti šport z največ točkami\n",
    "\n",
    "##### Zanimivi rezultati:<br/>\n",
    "    Slovenia --->\tRowing\n",
    "    United Arab Emirates --->\tShooting\n",
    "    Croatia --->\tHandball"
   ]
  },
  {
   "cell_type": "markdown",
   "metadata": {},
   "source": [
    "#### Analiza kateri letni čas najbolj ustreza državi\n",
    "Pri tej analizi sem seštel vse točke za državo po letnem času olimpijskih iger in delil z številom športov v tistem letnem času (ker je poletnih športov dosti več in bi drugače analiza vrnila za vse države poletni čas)\n",
    "\n",
    "##### Zanimivi rezultati:<br/>\n",
    "    Slovenia --->\tWinter\n",
    "    Austria --->\tWinter\n",
    "    Croatia --->\tSummer"
   ]
  },
  {
   "cell_type": "markdown",
   "metadata": {},
   "source": [
    "# Napovedovanje primernega športa glede na fizične karakteristike"
   ]
  },
  {
   "cell_type": "markdown",
   "metadata": {},
   "source": [
    "Ustvarili smo model, ki napove šport za katerega imamo najbolj primerno fizično predpostavko\n",
    "Za napoved moramo vnesti svojo starost, višino, težo ter spol. Model nam nato vrne tri najbolj primerne športe.\n"
   ]
  },
  {
   "cell_type": "markdown",
   "metadata": {},
   "source": [
    "### Ustvarjanje modela"
   ]
  },
  {
   "cell_type": "markdown",
   "metadata": {},
   "source": [
    "izmed vseh 66 športov, ki jih imamo med podatki, smo odstranili 9 športov, saj so bili le na nekaterih igrah. Športi\n",
    "z premalo podatkov so vlečenjne vrvi, golf, rugby, umetniško tekmovanje, lacrose itd. Tako model napoveduje med 57 športi. \n"
   ]
  },
  {
   "cell_type": "markdown",
   "metadata": {},
   "source": [
    "### Podatki"
   ]
  },
  {
   "cell_type": "markdown",
   "metadata": {},
   "source": [
    "Iz naše baze podatkov, smo izluščili vse športnike, ki so dobili medaljo ter nimajo mankajočih podatkov. Vsak športnik je predstavljen s starostjo, višino, težo, spolam ter športam v katerem je osvojil medaljo. Ker je za nekatere športe kot so atletika, košarka veliko več podatkov smo naključno nekatere odstranili ter tako prišli do veliko bolj uravnovešenih podatkov. Nazadnje je sledila nakjlučna razvrstitev podatkov v učno ter testno množico v razmerju 70:30"
   ]
  },
  {
   "cell_type": "markdown",
   "metadata": {},
   "source": [
    "### Učenje modela in testiranje modela"
   ]
  },
  {
   "cell_type": "markdown",
   "metadata": {},
   "source": [
    "Ker podatki niso tako zelo dobro uteženi je za klasifikator uporabljen RandomForest, saj od vseh modelov deluje bolje na neuravnovešenih podatkih.\n",
    "\n",
    "Model prvi šport napove z 30% natančnostjo, če pa vzamemo prve tri najbolj vrjetne športe model napoveduje z več kot 50% natančnostjo."
   ]
  },
  {
   "cell_type": "markdown",
   "metadata": {},
   "source": [
    "### Primeri"
   ]
  },
  {
   "cell_type": "markdown",
   "metadata": {},
   "source": [
    "Moški: 181cm 72kg 21 let\n",
    "1.   Athletics\n",
    "2.   Shooting\n",
    "3.   Figure Skating\n",
    "\n",
    "Moški: 181cm 72kg 33 let\n",
    "1.   Canoeing\n",
    "2.   Diving\n",
    "3.   Equestrianism(konjeništvo)\n",
    "\n",
    "Ženska: 181cm 72kg 21 let\n",
    "1.   Luge\n",
    "2.   Speed Skating\n",
    "3.   Shooting\n",
    "\n",
    "Ženska: 195cm 80kg 24 let\n",
    "1.   Basketball\n",
    "2.   Speed Skating\n",
    "3.   Luge\n",
    "\n",
    "Ženska: 160cm 60kg 23 let\n",
    "1.   Synchronized Swimming\n",
    "2.   Gymnastics\n",
    "3.   Golf\n",
    "\n",
    "Moški: 160cm 60kg 23 let\n",
    "1.   Table Tennis\n",
    "2.   Handball\n",
    "3.   Football"
   ]
  },
  {
   "cell_type": "code",
   "execution_count": null,
   "metadata": {},
   "outputs": [],
   "source": []
  }
 ],
 "metadata": {
  "kernelspec": {
   "display_name": "Python 3",
   "language": "python",
   "name": "python3"
  },
  "language_info": {
   "codemirror_mode": {
    "name": "ipython",
    "version": 3
   },
   "file_extension": ".py",
   "mimetype": "text/x-python",
   "name": "python",
   "nbconvert_exporter": "python",
   "pygments_lexer": "ipython3",
   "version": "3.6.2"
  }
 },
 "nbformat": 4,
 "nbformat_minor": 2
}
