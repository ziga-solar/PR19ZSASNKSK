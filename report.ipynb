{
 "cells": [
  {
   "cell_type": "markdown",
   "metadata": {},
   "source": [
    "<center> <h1>Podatkovno rudarjenje (PR)</h1>\n",
    "    <br>\n",
    "    <br>\n",
    "<h3>Univerza v Ljubljani</h3>\n",
    "<h3>Fakulteta za računalništvo in informatiko</h3>"
   ]
  },
  {
   "cell_type": "markdown",
   "metadata": {},
   "source": [
    "##### Skupina:\n",
    " - Žiga Šolar\t(zs3653@student.uni-lj.si)\n",
    " - Andraž Simčič (as7495@student.uni-lj.si)\n",
    " - Simon Klemenčič (sk0014@student.uni-lj.si)\n",
    " - Nejc Kozjek (nk4370@student.uni-lj.si)\n",
    " "
   ]
  },
  {
   "cell_type": "markdown",
   "metadata": {},
   "source": [
    "##### Kratek opis naloge:\n",
    "\n",
    "Namen naše naloge je analiza razvoja športnikov in športov na osnovi podatkov z Olimpijskih iger od leta 1896 v Atenah do leta 2016 v Riu (120 let).\n",
    "Olimpijske igre so športni dogodek, ki se odvija vsako četro leto. Poznamo zimske in letne Olimpijske igre. Popularne so zaradi raznolike ponudbe zimskih in letnih športov, kot so smučanje, plavanje, košarka, nogomet, itd."
   ]
  },
  {
   "cell_type": "markdown",
   "metadata": {},
   "source": []
  },
  {
   "cell_type": "code",
   "execution_count": null,
   "metadata": {},
   "outputs": [],
   "source": []
  },
  {
   "cell_type": "code",
   "execution_count": null,
   "metadata": {},
   "outputs": [],
   "source": []
  },
  {
   "cell_type": "markdown",
   "metadata": {},
   "source": [
    "##### Vir in oblika podatkov:\n",
    " \n",
    "Podatkovno zbirko bomo pridobili iz spletnega portala Kaggle (https://www.kaggle.com/heesoo37/120-years-of-olympic-history-athletes-and-results/version/2?) kjer so podatki na razpolago v formatu \"csv\"."
   ]
  }
 ],
 "metadata": {
  "kernelspec": {
   "display_name": "Python 3",
   "language": "python",
   "name": "python3"
  },
  "language_info": {
   "codemirror_mode": {
    "name": "ipython",
    "version": 3
   },
   "file_extension": ".py",
   "mimetype": "text/x-python",
   "name": "python",
   "nbconvert_exporter": "python",
   "pygments_lexer": "ipython3",
   "version": "3.7.3"
  }
 },
 "nbformat": 4,
 "nbformat_minor": 2
}
